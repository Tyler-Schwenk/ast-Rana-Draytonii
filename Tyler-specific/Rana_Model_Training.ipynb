{
 "cells": [
  {
   "cell_type": "markdown",
   "id": "dfbb1d4b",
   "metadata": {},
   "source": [
    "Install and import required packages."
   ]
  },
  {
   "cell_type": "code",
   "execution_count": 2,
   "id": "507111fa",
   "metadata": {},
   "outputs": [
    {
     "name": "stderr",
     "output_type": "stream",
     "text": [
      "fatal: destination path 'ast' already exists and is not an empty directory.\n"
     ]
    },
    {
     "name": "stdout",
     "output_type": "stream",
     "text": [
      "Requirement already satisfied: timm==0.4.5 in c:\\users\\tyler\\anaconda3\\envs\\rana1\\lib\\site-packages (0.4.5)\n",
      "Requirement already satisfied: torch>=1.4 in c:\\users\\tyler\\anaconda3\\envs\\rana1\\lib\\site-packages (from timm==0.4.5) (2.0.1)\n",
      "Requirement already satisfied: torchvision in c:\\users\\tyler\\anaconda3\\envs\\rana1\\lib\\site-packages (from timm==0.4.5) (0.15.2)\n",
      "Requirement already satisfied: filelock in c:\\users\\tyler\\anaconda3\\envs\\rana1\\lib\\site-packages (from torch>=1.4->timm==0.4.5) (3.12.0)\n",
      "Requirement already satisfied: sympy in c:\\users\\tyler\\anaconda3\\envs\\rana1\\lib\\site-packages (from torch>=1.4->timm==0.4.5) (1.12)\n",
      "Requirement already satisfied: jinja2 in c:\\users\\tyler\\anaconda3\\envs\\rana1\\lib\\site-packages (from torch>=1.4->timm==0.4.5) (3.1.2)\n",
      "Requirement already satisfied: typing-extensions in c:\\users\\tyler\\anaconda3\\envs\\rana1\\lib\\site-packages (from torch>=1.4->timm==0.4.5) (4.5.0)\n",
      "Requirement already satisfied: networkx in c:\\users\\tyler\\anaconda3\\envs\\rana1\\lib\\site-packages (from torch>=1.4->timm==0.4.5) (3.1)\n",
      "Requirement already satisfied: requests in c:\\users\\tyler\\anaconda3\\envs\\rana1\\lib\\site-packages (from torchvision->timm==0.4.5) (2.29.0)\n",
      "Requirement already satisfied: pillow!=8.3.*,>=5.3.0 in c:\\users\\tyler\\anaconda3\\envs\\rana1\\lib\\site-packages (from torchvision->timm==0.4.5) (9.5.0)\n",
      "Requirement already satisfied: numpy in c:\\users\\tyler\\anaconda3\\envs\\rana1\\lib\\site-packages (from torchvision->timm==0.4.5) (1.24.3)\n",
      "Requirement already satisfied: MarkupSafe>=2.0 in c:\\users\\tyler\\anaconda3\\envs\\rana1\\lib\\site-packages (from jinja2->torch>=1.4->timm==0.4.5) (2.1.1)\n",
      "Requirement already satisfied: certifi>=2017.4.17 in c:\\users\\tyler\\anaconda3\\envs\\rana1\\lib\\site-packages (from requests->torchvision->timm==0.4.5) (2023.5.7)\n",
      "Requirement already satisfied: charset-normalizer<4,>=2 in c:\\users\\tyler\\anaconda3\\envs\\rana1\\lib\\site-packages (from requests->torchvision->timm==0.4.5) (2.0.4)\n",
      "Requirement already satisfied: idna<4,>=2.5 in c:\\users\\tyler\\anaconda3\\envs\\rana1\\lib\\site-packages (from requests->torchvision->timm==0.4.5) (3.4)\n",
      "Requirement already satisfied: urllib3<1.27,>=1.21.1 in c:\\users\\tyler\\anaconda3\\envs\\rana1\\lib\\site-packages (from requests->torchvision->timm==0.4.5) (1.26.16)\n",
      "Requirement already satisfied: mpmath>=0.19 in c:\\users\\tyler\\anaconda3\\envs\\rana1\\lib\\site-packages (from sympy->torch>=1.4->timm==0.4.5) (1.3.0)\n",
      "Requirement already satisfied: wget in c:\\users\\tyler\\anaconda3\\envs\\rana1\\lib\\site-packages (3.2)\n",
      "Requirement already satisfied: torchaudio in c:\\users\\tyler\\anaconda3\\envs\\rana1\\lib\\site-packages (2.0.2)\n",
      "Requirement already satisfied: torch==2.0.1 in c:\\users\\tyler\\anaconda3\\envs\\rana1\\lib\\site-packages (from torchaudio) (2.0.1)\n",
      "Requirement already satisfied: networkx in c:\\users\\tyler\\anaconda3\\envs\\rana1\\lib\\site-packages (from torch==2.0.1->torchaudio) (3.1)\n",
      "Requirement already satisfied: typing-extensions in c:\\users\\tyler\\anaconda3\\envs\\rana1\\lib\\site-packages (from torch==2.0.1->torchaudio) (4.5.0)\n",
      "Requirement already satisfied: jinja2 in c:\\users\\tyler\\anaconda3\\envs\\rana1\\lib\\site-packages (from torch==2.0.1->torchaudio) (3.1.2)\n",
      "Requirement already satisfied: filelock in c:\\users\\tyler\\anaconda3\\envs\\rana1\\lib\\site-packages (from torch==2.0.1->torchaudio) (3.12.0)\n",
      "Requirement already satisfied: sympy in c:\\users\\tyler\\anaconda3\\envs\\rana1\\lib\\site-packages (from torch==2.0.1->torchaudio) (1.12)\n",
      "Requirement already satisfied: MarkupSafe>=2.0 in c:\\users\\tyler\\anaconda3\\envs\\rana1\\lib\\site-packages (from jinja2->torch==2.0.1->torchaudio) (2.1.1)\n",
      "Requirement already satisfied: mpmath>=0.19 in c:\\users\\tyler\\anaconda3\\envs\\rana1\\lib\\site-packages (from sympy->torch==2.0.1->torchaudio) (1.3.0)\n"
     ]
    },
    {
     "name": "stderr",
     "output_type": "stream",
     "text": [
      "C:\\Users\\tyler\\anaconda3\\envs\\Rana1\\lib\\site-packages\\torchaudio\\backend\\utils.py:74: UserWarning: No audio backend is available.\n",
      "  warnings.warn(\"No audio backend is available.\")\n"
     ]
    },
    {
     "name": "stdout",
     "output_type": "stream",
     "text": [
      "C:\\Users\\tyler\\OneDrive\\Desktop\\For Employers\\California Red Legged Frog\\ast\n"
     ]
    }
   ],
   "source": [
    "\n",
    "# Clone the repository\n",
    "import sys\n",
    "!git clone https://github.com/YuanGongND/ast\n",
    "# Append the 'ast' directory to sys.path\n",
    "sys.path.append('./ast')\n",
    "\n",
    "# Install required packages\n",
    "!pip install timm==0.4.5\n",
    "!pip install wget\n",
    "!pip install torchaudio\n",
    "\n",
    "\n",
    "# Import necessary packages\n",
    "import os, csv, argparse, wget\n",
    "import torch, torchaudio, timm\n",
    "import numpy as np\n",
    "from torch.cuda.amp import autocast\n",
    "import IPython\n",
    "\n",
    "# Make sure you're in the right directory\n",
    "%cd ast/\n",
    "\n",
    "# Set the TORCH_HOME environment variable (for saving pretrained models)\n",
    "os.environ['TORCH_HOME'] = './pretrained_models'\n",
    "if os.path.exists('./pretrained_models') == False:\n",
    "  os.mkdir('./pretrained_models')"
   ]
  },
  {
   "cell_type": "code",
   "execution_count": 5,
   "id": "7e320b98",
   "metadata": {},
   "outputs": [
    {
     "name": "stdout",
     "output_type": "stream",
     "text": [
      "C:\\Users\\tyler\\anaconda3\\envs\\Rana1\\python.exe\n"
     ]
    }
   ],
   "source": [
    "import sys\n",
    "print(sys.executable)\n"
   ]
  },
  {
   "cell_type": "code",
   "execution_count": 6,
   "id": "f9679005",
   "metadata": {},
   "outputs": [
    {
     "name": "stdout",
     "output_type": "stream",
     "text": [
      "Name: torch\n",
      "Version: 2.0.1\n",
      "Summary: Tensors and Dynamic neural networks in Python with strong GPU acceleration\n",
      "Home-page: https://pytorch.org/\n",
      "Author: PyTorch Team\n",
      "Author-email: packages@pytorch.org\n",
      "License: BSD-3\n",
      "Location: c:\\users\\tyler\\anaconda3\\envs\\rana1\\lib\\site-packages\n",
      "Requires: filelock, jinja2, networkx, sympy, typing-extensions\n",
      "Required-by: timm, torchaudio, torchvision\n",
      "Note: you may need to restart the kernel to use updated packages.\n"
     ]
    }
   ],
   "source": [
    "pip show torch\n"
   ]
  },
  {
   "cell_type": "code",
   "execution_count": null,
   "id": "c74fcb54",
   "metadata": {},
   "outputs": [],
   "source": []
  }
 ],
 "metadata": {
  "kernelspec": {
   "display_name": "Python 3 (ipykernel)",
   "language": "python",
   "name": "python3"
  },
  "language_info": {
   "codemirror_mode": {
    "name": "ipython",
    "version": 3
   },
   "file_extension": ".py",
   "mimetype": "text/x-python",
   "name": "python",
   "nbconvert_exporter": "python",
   "pygments_lexer": "ipython3",
   "version": "3.10.11"
  }
 },
 "nbformat": 4,
 "nbformat_minor": 5
}
